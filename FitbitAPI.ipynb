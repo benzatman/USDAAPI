{
  "nbformat": 4,
  "nbformat_minor": 0,
  "metadata": {
    "colab": {
      "name": "FitbitAPI.ipynb",
      "provenance": [],
      "toc_visible": true,
      "authorship_tag": "ABX9TyMnwhbtcFaye7Iyis1dhlb0"
    },
    "kernelspec": {
      "name": "python3",
      "display_name": "Python 3"
    },
    "language_info": {
      "name": "python"
    }
  },
  "cells": [
    {
      "cell_type": "markdown",
      "source": [
        "# Demo Using Fitbit API"
      ],
      "metadata": {
        "id": "mPl5Lvgg0Y0J"
      }
    },
    {
      "cell_type": "markdown",
      "source": [
        "This Colab tests out getting data from Fitbit API and shows a few applications of this data"
      ],
      "metadata": {
        "id": "FrORL_gM0wCy"
      }
    },
    {
      "cell_type": "markdown",
      "source": [
        "## Libraries and Constants"
      ],
      "metadata": {
        "id": "lazCg2ZofDcl"
      }
    },
    {
      "cell_type": "code",
      "source": [
        "import requests\n",
        "import ast\n",
        "import json\n",
        "import seaborn as sns\n",
        "import matplotlib.pyplot as plt\n",
        "\n",
        "\n",
        "id = '#####'\n",
        "\n",
        "headers = {\n",
        "    'Authorization': '##########################################################################',\n",
        "}"
      ],
      "metadata": {
        "id": "INV1GHSgfIus"
      },
      "execution_count": null,
      "outputs": []
    },
    {
      "cell_type": "markdown",
      "source": [
        "## Getting Basic Data"
      ],
      "metadata": {
        "id": "0A9q1uE9YhrI"
      }
    },
    {
      "cell_type": "code",
      "source": [
        "response = requests.get('https://api.fitbit.com/1/user/-/profile.json', headers=headers)\n",
        "print(response.content)"
      ],
      "metadata": {
        "id": "m_uVgf3aVZGM"
      },
      "execution_count": null,
      "outputs": []
    },
    {
      "cell_type": "markdown",
      "source": [
        "### Steps Data"
      ],
      "metadata": {
        "id": "AuPOg2aFsTtz"
      }
    },
    {
      "cell_type": "markdown",
      "source": [
        "#### Get Steps Data "
      ],
      "metadata": {
        "id": "Nm4-HOS-eZ1V"
      }
    },
    {
      "cell_type": "code",
      "source": [
        "steps_data = {}\n",
        "days_in_feb = ['01', '02', '03', '04', '05', '06', '07', '08', '09', '10', '11', '12', '13', '14', '15', '16', '17', '18', '19', '20', '21', '22', '23', '24', '25', '26', '27', '28']\n",
        "for day in days_in_feb: \n",
        "  req_raw = requests.get(f'https://api.fitbit.com/1/user/{id}/activities/steps/date/2022-02-{day}/1d/1min.json', headers=headers)\n",
        "  req_str = req_raw.content.decode(\"utf-8\")\n",
        "  req = ast.literal_eval(req_str)\n",
        "  num_steps = req.get('activities-steps')[0].get('value')\n",
        "  steps_data.update({day : int(num_steps)})\n",
        "print(steps_data)"
      ],
      "metadata": {
        "id": "ErRUFghJecmU"
      },
      "execution_count": null,
      "outputs": []
    },
    {
      "cell_type": "markdown",
      "source": [
        "#### Steps Graph"
      ],
      "metadata": {
        "id": "glbSTAnnsQLB"
      }
    },
    {
      "cell_type": "code",
      "source": [
        "sns.set_theme(style=\"whitegrid\")\n",
        "x = list(steps_data.keys())\n",
        "y = list(steps_data.values())\n",
        "ax = sns.barplot(x, y).set(title=\"Steps Per Day in Feb.\", xlabel=\"Day of Feb.\", ylabel=\"Steps\")\n",
        "plt.show()"
      ],
      "metadata": {
        "id": "bqIbrEv6se9Y"
      },
      "execution_count": null,
      "outputs": []
    },
    {
      "cell_type": "markdown",
      "source": [
        "### Calories Data"
      ],
      "metadata": {
        "id": "1BDw2DQxvw4I"
      }
    },
    {
      "cell_type": "markdown",
      "source": [
        "#### Get Calories Data"
      ],
      "metadata": {
        "id": "nKtEXywSvzUk"
      }
    },
    {
      "cell_type": "code",
      "source": [
        "kcal_data = {}\n",
        "days_in_feb = ['01', '02', '03', '04', '05', '06', '07', '08', '09', '10', '11', '12', '13', '14', '15', '16', '17', '18', '19', '20', '21', '22', '23', '24', '25', '26', '27', '28']\n",
        "for day in days_in_feb: \n",
        "  req_raw = requests.get(f'https://api.fitbit.com/1/user/{id}/activities/calories/date/2022-02-{day}/1d/1min.json', headers=headers)\n",
        "  req_str = req_raw.content.decode(\"utf-8\")\n",
        "  req = ast.literal_eval(req_str)\n",
        "  num_kcal = req.get('activities-calories')[0].get('value')\n",
        "  kcal_data.update({day : int(num_kcal)})\n",
        "print(kcal_data)"
      ],
      "metadata": {
        "id": "4RwvcGeGv5-C"
      },
      "execution_count": null,
      "outputs": []
    },
    {
      "cell_type": "markdown",
      "source": [
        "#### Get Calories Graph"
      ],
      "metadata": {
        "id": "XdeL6KTlwNE9"
      }
    },
    {
      "cell_type": "code",
      "source": [
        "sns.set_theme(style=\"whitegrid\")\n",
        "x = list(kcal_data.keys())\n",
        "y = list(kcal_data.values())\n",
        "ax = sns.barplot(x, y).set(title=\"Kcal burned Per Day in Feb.\", xlabel=\"Day of Feb.\", ylabel=\"Kcal Burned\")\n",
        "plt.show()"
      ],
      "metadata": {
        "id": "lDu43eO4wQUu"
      },
      "execution_count": null,
      "outputs": []
    },
    {
      "cell_type": "markdown",
      "source": [
        "### Sleep Data"
      ],
      "metadata": {
        "id": "b15voLAowf7T"
      }
    },
    {
      "cell_type": "markdown",
      "source": [
        "#### Get Sleep Data"
      ],
      "metadata": {
        "id": "L94bjuOrwiZ9"
      }
    },
    {
      "cell_type": "code",
      "source": [
        "sleep_data = {}\n",
        "days_in_feb = ['01', '02', '03', '04', '05', '06', '07', '08', '09', '10', '11', '12', '13', '14', '15', '16', '17', '18', '19', '20', '21', '22', '23', '24', '25', '26', '27', '28']\n",
        "for day in days_in_feb: \n",
        "  req_raw = requests.get(f'https://api.fitbit.com/1.2/user/{id}/sleep/date/2022-02-{day}.json', headers=headers)\n",
        "  req_str = req_raw.content.decode(\"utf-8\")\n",
        "  req = json.loads(req_str)\n",
        "  try:\n",
        "    raw_sleep_time = req.get('sleep')[0].get('duration')\n",
        "  except IndexError:\n",
        "    pass\n",
        "  sleep_time = (((raw_sleep_time / 1000) / 60) / 60)\n",
        "  sleep_data.update({day: float(sleep_time)})\n",
        "print(sleep_data)\n"
      ],
      "metadata": {
        "id": "gCuxGrCmwk37"
      },
      "execution_count": null,
      "outputs": []
    },
    {
      "cell_type": "markdown",
      "source": [
        "#### Get Sleep Graph"
      ],
      "metadata": {
        "id": "FmL0IcPcz9MY"
      }
    },
    {
      "cell_type": "code",
      "source": [
        "sns.set_theme(style=\"whitegrid\")\n",
        "x = list(sleep_data.keys())\n",
        "y = list(sleep_data.values())\n",
        "ax = sns.barplot(x, y).set(title=\"Hours Slept Per Day in Feb.\", xlabel=\"Day of Feb.\", ylabel=\"Hours Slept\")\n",
        "plt.show()"
      ],
      "metadata": {
        "id": "YdIr7p7I0CCa"
      },
      "execution_count": null,
      "outputs": []
    }
  ]
}